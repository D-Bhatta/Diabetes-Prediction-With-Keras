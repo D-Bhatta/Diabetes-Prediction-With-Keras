{
  "nbformat": 4,
  "nbformat_minor": 0,
  "metadata": {
    "colab": {
      "name": " Diabetes_Prediction_With_Keras.ipynb",
      "provenance": [],
      "collapsed_sections": [],
      "authorship_tag": "ABX9TyNLBWLMVhQ0ofgLGKanRUy7",
      "include_colab_link": true
    },
    "kernelspec": {
      "name": "python3",
      "display_name": "Python 3"
    },
    "accelerator": "GPU"
  },
  "cells": [
    {
      "cell_type": "markdown",
      "metadata": {
        "id": "view-in-github",
        "colab_type": "text"
      },
      "source": [
        "<a href=\"https://colab.research.google.com/github/D-Bhatta/Diabetes-Prediction-With-Keras/blob/create-model/Diabetes_Prediction_With_Keras.ipynb\" target=\"_parent\"><img src=\"https://colab.research.google.com/assets/colab-badge.svg\" alt=\"Open In Colab\"/></a>"
      ]
    },
    {
      "cell_type": "markdown",
      "metadata": {
        "id": "ipcfpDIDpAWO",
        "colab_type": "text"
      },
      "source": [
        "Install Tensorflow"
      ]
    },
    {
      "cell_type": "code",
      "metadata": {
        "id": "J4-zg5C0Gu1O",
        "colab_type": "code",
        "colab": {
          "base_uri": "https://localhost:8080/",
          "height": 1000
        },
        "outputId": "3e8aa49a-70f2-42d2-8a42-7050f449747d"
      },
      "source": [
        "!pip install tensorflow\n",
        "!pip install tensorflow-gpu\n",
        "!pip install keras"
      ],
      "execution_count": 1,
      "outputs": [
        {
          "output_type": "stream",
          "text": [
            "Requirement already satisfied: tensorflow in /usr/local/lib/python3.6/dist-packages (2.2.0)\n",
            "Requirement already satisfied: opt-einsum>=2.3.2 in /usr/local/lib/python3.6/dist-packages (from tensorflow) (3.2.1)\n",
            "Requirement already satisfied: wrapt>=1.11.1 in /usr/local/lib/python3.6/dist-packages (from tensorflow) (1.12.1)\n",
            "Requirement already satisfied: gast==0.3.3 in /usr/local/lib/python3.6/dist-packages (from tensorflow) (0.3.3)\n",
            "Requirement already satisfied: tensorflow-estimator<2.3.0,>=2.2.0 in /usr/local/lib/python3.6/dist-packages (from tensorflow) (2.2.0)\n",
            "Requirement already satisfied: scipy==1.4.1; python_version >= \"3\" in /usr/local/lib/python3.6/dist-packages (from tensorflow) (1.4.1)\n",
            "Requirement already satisfied: termcolor>=1.1.0 in /usr/local/lib/python3.6/dist-packages (from tensorflow) (1.1.0)\n",
            "Requirement already satisfied: h5py<2.11.0,>=2.10.0 in /usr/local/lib/python3.6/dist-packages (from tensorflow) (2.10.0)\n",
            "Requirement already satisfied: grpcio>=1.8.6 in /usr/local/lib/python3.6/dist-packages (from tensorflow) (1.29.0)\n",
            "Requirement already satisfied: absl-py>=0.7.0 in /usr/local/lib/python3.6/dist-packages (from tensorflow) (0.9.0)\n",
            "Requirement already satisfied: google-pasta>=0.1.8 in /usr/local/lib/python3.6/dist-packages (from tensorflow) (0.2.0)\n",
            "Requirement already satisfied: protobuf>=3.8.0 in /usr/local/lib/python3.6/dist-packages (from tensorflow) (3.10.0)\n",
            "Requirement already satisfied: astunparse==1.6.3 in /usr/local/lib/python3.6/dist-packages (from tensorflow) (1.6.3)\n",
            "Requirement already satisfied: six>=1.12.0 in /usr/local/lib/python3.6/dist-packages (from tensorflow) (1.12.0)\n",
            "Requirement already satisfied: numpy<2.0,>=1.16.0 in /usr/local/lib/python3.6/dist-packages (from tensorflow) (1.18.4)\n",
            "Requirement already satisfied: wheel>=0.26; python_version >= \"3\" in /usr/local/lib/python3.6/dist-packages (from tensorflow) (0.34.2)\n",
            "Requirement already satisfied: tensorboard<2.3.0,>=2.2.0 in /usr/local/lib/python3.6/dist-packages (from tensorflow) (2.2.2)\n",
            "Requirement already satisfied: keras-preprocessing>=1.1.0 in /usr/local/lib/python3.6/dist-packages (from tensorflow) (1.1.2)\n",
            "Requirement already satisfied: setuptools in /usr/local/lib/python3.6/dist-packages (from protobuf>=3.8.0->tensorflow) (47.1.1)\n",
            "Requirement already satisfied: markdown>=2.6.8 in /usr/local/lib/python3.6/dist-packages (from tensorboard<2.3.0,>=2.2.0->tensorflow) (3.2.2)\n",
            "Requirement already satisfied: google-auth<2,>=1.6.3 in /usr/local/lib/python3.6/dist-packages (from tensorboard<2.3.0,>=2.2.0->tensorflow) (1.7.2)\n",
            "Requirement already satisfied: google-auth-oauthlib<0.5,>=0.4.1 in /usr/local/lib/python3.6/dist-packages (from tensorboard<2.3.0,>=2.2.0->tensorflow) (0.4.1)\n",
            "Requirement already satisfied: werkzeug>=0.11.15 in /usr/local/lib/python3.6/dist-packages (from tensorboard<2.3.0,>=2.2.0->tensorflow) (1.0.1)\n",
            "Requirement already satisfied: tensorboard-plugin-wit>=1.6.0 in /usr/local/lib/python3.6/dist-packages (from tensorboard<2.3.0,>=2.2.0->tensorflow) (1.6.0.post3)\n",
            "Requirement already satisfied: requests<3,>=2.21.0 in /usr/local/lib/python3.6/dist-packages (from tensorboard<2.3.0,>=2.2.0->tensorflow) (2.23.0)\n",
            "Requirement already satisfied: importlib-metadata; python_version < \"3.8\" in /usr/local/lib/python3.6/dist-packages (from markdown>=2.6.8->tensorboard<2.3.0,>=2.2.0->tensorflow) (1.6.0)\n",
            "Requirement already satisfied: rsa<4.1,>=3.1.4 in /usr/local/lib/python3.6/dist-packages (from google-auth<2,>=1.6.3->tensorboard<2.3.0,>=2.2.0->tensorflow) (4.0)\n",
            "Requirement already satisfied: cachetools<3.2,>=2.0.0 in /usr/local/lib/python3.6/dist-packages (from google-auth<2,>=1.6.3->tensorboard<2.3.0,>=2.2.0->tensorflow) (3.1.1)\n",
            "Requirement already satisfied: pyasn1-modules>=0.2.1 in /usr/local/lib/python3.6/dist-packages (from google-auth<2,>=1.6.3->tensorboard<2.3.0,>=2.2.0->tensorflow) (0.2.8)\n",
            "Requirement already satisfied: requests-oauthlib>=0.7.0 in /usr/local/lib/python3.6/dist-packages (from google-auth-oauthlib<0.5,>=0.4.1->tensorboard<2.3.0,>=2.2.0->tensorflow) (1.3.0)\n",
            "Requirement already satisfied: idna<3,>=2.5 in /usr/local/lib/python3.6/dist-packages (from requests<3,>=2.21.0->tensorboard<2.3.0,>=2.2.0->tensorflow) (2.9)\n",
            "Requirement already satisfied: urllib3!=1.25.0,!=1.25.1,<1.26,>=1.21.1 in /usr/local/lib/python3.6/dist-packages (from requests<3,>=2.21.0->tensorboard<2.3.0,>=2.2.0->tensorflow) (1.24.3)\n",
            "Requirement already satisfied: chardet<4,>=3.0.2 in /usr/local/lib/python3.6/dist-packages (from requests<3,>=2.21.0->tensorboard<2.3.0,>=2.2.0->tensorflow) (3.0.4)\n",
            "Requirement already satisfied: certifi>=2017.4.17 in /usr/local/lib/python3.6/dist-packages (from requests<3,>=2.21.0->tensorboard<2.3.0,>=2.2.0->tensorflow) (2020.4.5.1)\n",
            "Requirement already satisfied: zipp>=0.5 in /usr/local/lib/python3.6/dist-packages (from importlib-metadata; python_version < \"3.8\"->markdown>=2.6.8->tensorboard<2.3.0,>=2.2.0->tensorflow) (3.1.0)\n",
            "Requirement already satisfied: pyasn1>=0.1.3 in /usr/local/lib/python3.6/dist-packages (from rsa<4.1,>=3.1.4->google-auth<2,>=1.6.3->tensorboard<2.3.0,>=2.2.0->tensorflow) (0.4.8)\n",
            "Requirement already satisfied: oauthlib>=3.0.0 in /usr/local/lib/python3.6/dist-packages (from requests-oauthlib>=0.7.0->google-auth-oauthlib<0.5,>=0.4.1->tensorboard<2.3.0,>=2.2.0->tensorflow) (3.1.0)\n",
            "Collecting tensorflow-gpu\n",
            "\u001b[?25l  Downloading https://files.pythonhosted.org/packages/31/bf/c28971266ca854a64f4b26f07c4112ddd61f30b4d1f18108b954a746f8ea/tensorflow_gpu-2.2.0-cp36-cp36m-manylinux2010_x86_64.whl (516.2MB)\n",
            "\u001b[K     |████████████████████████████████| 516.2MB 31kB/s \n",
            "\u001b[?25hRequirement already satisfied: astunparse==1.6.3 in /usr/local/lib/python3.6/dist-packages (from tensorflow-gpu) (1.6.3)\n",
            "Requirement already satisfied: tensorflow-estimator<2.3.0,>=2.2.0 in /usr/local/lib/python3.6/dist-packages (from tensorflow-gpu) (2.2.0)\n",
            "Requirement already satisfied: termcolor>=1.1.0 in /usr/local/lib/python3.6/dist-packages (from tensorflow-gpu) (1.1.0)\n",
            "Requirement already satisfied: gast==0.3.3 in /usr/local/lib/python3.6/dist-packages (from tensorflow-gpu) (0.3.3)\n",
            "Requirement already satisfied: keras-preprocessing>=1.1.0 in /usr/local/lib/python3.6/dist-packages (from tensorflow-gpu) (1.1.2)\n",
            "Requirement already satisfied: numpy<2.0,>=1.16.0 in /usr/local/lib/python3.6/dist-packages (from tensorflow-gpu) (1.18.4)\n",
            "Requirement already satisfied: wheel>=0.26; python_version >= \"3\" in /usr/local/lib/python3.6/dist-packages (from tensorflow-gpu) (0.34.2)\n",
            "Requirement already satisfied: wrapt>=1.11.1 in /usr/local/lib/python3.6/dist-packages (from tensorflow-gpu) (1.12.1)\n",
            "Requirement already satisfied: six>=1.12.0 in /usr/local/lib/python3.6/dist-packages (from tensorflow-gpu) (1.12.0)\n",
            "Requirement already satisfied: google-pasta>=0.1.8 in /usr/local/lib/python3.6/dist-packages (from tensorflow-gpu) (0.2.0)\n",
            "Requirement already satisfied: tensorboard<2.3.0,>=2.2.0 in /usr/local/lib/python3.6/dist-packages (from tensorflow-gpu) (2.2.2)\n",
            "Requirement already satisfied: scipy==1.4.1; python_version >= \"3\" in /usr/local/lib/python3.6/dist-packages (from tensorflow-gpu) (1.4.1)\n",
            "Requirement already satisfied: opt-einsum>=2.3.2 in /usr/local/lib/python3.6/dist-packages (from tensorflow-gpu) (3.2.1)\n",
            "Requirement already satisfied: protobuf>=3.8.0 in /usr/local/lib/python3.6/dist-packages (from tensorflow-gpu) (3.10.0)\n",
            "Requirement already satisfied: grpcio>=1.8.6 in /usr/local/lib/python3.6/dist-packages (from tensorflow-gpu) (1.29.0)\n",
            "Requirement already satisfied: absl-py>=0.7.0 in /usr/local/lib/python3.6/dist-packages (from tensorflow-gpu) (0.9.0)\n",
            "Requirement already satisfied: h5py<2.11.0,>=2.10.0 in /usr/local/lib/python3.6/dist-packages (from tensorflow-gpu) (2.10.0)\n",
            "Requirement already satisfied: tensorboard-plugin-wit>=1.6.0 in /usr/local/lib/python3.6/dist-packages (from tensorboard<2.3.0,>=2.2.0->tensorflow-gpu) (1.6.0.post3)\n",
            "Requirement already satisfied: markdown>=2.6.8 in /usr/local/lib/python3.6/dist-packages (from tensorboard<2.3.0,>=2.2.0->tensorflow-gpu) (3.2.2)\n",
            "Requirement already satisfied: requests<3,>=2.21.0 in /usr/local/lib/python3.6/dist-packages (from tensorboard<2.3.0,>=2.2.0->tensorflow-gpu) (2.23.0)\n",
            "Requirement already satisfied: werkzeug>=0.11.15 in /usr/local/lib/python3.6/dist-packages (from tensorboard<2.3.0,>=2.2.0->tensorflow-gpu) (1.0.1)\n",
            "Requirement already satisfied: google-auth<2,>=1.6.3 in /usr/local/lib/python3.6/dist-packages (from tensorboard<2.3.0,>=2.2.0->tensorflow-gpu) (1.7.2)\n",
            "Requirement already satisfied: setuptools>=41.0.0 in /usr/local/lib/python3.6/dist-packages (from tensorboard<2.3.0,>=2.2.0->tensorflow-gpu) (47.1.1)\n",
            "Requirement already satisfied: google-auth-oauthlib<0.5,>=0.4.1 in /usr/local/lib/python3.6/dist-packages (from tensorboard<2.3.0,>=2.2.0->tensorflow-gpu) (0.4.1)\n",
            "Requirement already satisfied: importlib-metadata; python_version < \"3.8\" in /usr/local/lib/python3.6/dist-packages (from markdown>=2.6.8->tensorboard<2.3.0,>=2.2.0->tensorflow-gpu) (1.6.0)\n",
            "Requirement already satisfied: urllib3!=1.25.0,!=1.25.1,<1.26,>=1.21.1 in /usr/local/lib/python3.6/dist-packages (from requests<3,>=2.21.0->tensorboard<2.3.0,>=2.2.0->tensorflow-gpu) (1.24.3)\n",
            "Requirement already satisfied: idna<3,>=2.5 in /usr/local/lib/python3.6/dist-packages (from requests<3,>=2.21.0->tensorboard<2.3.0,>=2.2.0->tensorflow-gpu) (2.9)\n",
            "Requirement already satisfied: certifi>=2017.4.17 in /usr/local/lib/python3.6/dist-packages (from requests<3,>=2.21.0->tensorboard<2.3.0,>=2.2.0->tensorflow-gpu) (2020.4.5.1)\n",
            "Requirement already satisfied: chardet<4,>=3.0.2 in /usr/local/lib/python3.6/dist-packages (from requests<3,>=2.21.0->tensorboard<2.3.0,>=2.2.0->tensorflow-gpu) (3.0.4)\n",
            "Requirement already satisfied: rsa<4.1,>=3.1.4 in /usr/local/lib/python3.6/dist-packages (from google-auth<2,>=1.6.3->tensorboard<2.3.0,>=2.2.0->tensorflow-gpu) (4.0)\n",
            "Requirement already satisfied: pyasn1-modules>=0.2.1 in /usr/local/lib/python3.6/dist-packages (from google-auth<2,>=1.6.3->tensorboard<2.3.0,>=2.2.0->tensorflow-gpu) (0.2.8)\n",
            "Requirement already satisfied: cachetools<3.2,>=2.0.0 in /usr/local/lib/python3.6/dist-packages (from google-auth<2,>=1.6.3->tensorboard<2.3.0,>=2.2.0->tensorflow-gpu) (3.1.1)\n",
            "Requirement already satisfied: requests-oauthlib>=0.7.0 in /usr/local/lib/python3.6/dist-packages (from google-auth-oauthlib<0.5,>=0.4.1->tensorboard<2.3.0,>=2.2.0->tensorflow-gpu) (1.3.0)\n",
            "Requirement already satisfied: zipp>=0.5 in /usr/local/lib/python3.6/dist-packages (from importlib-metadata; python_version < \"3.8\"->markdown>=2.6.8->tensorboard<2.3.0,>=2.2.0->tensorflow-gpu) (3.1.0)\n",
            "Requirement already satisfied: pyasn1>=0.1.3 in /usr/local/lib/python3.6/dist-packages (from rsa<4.1,>=3.1.4->google-auth<2,>=1.6.3->tensorboard<2.3.0,>=2.2.0->tensorflow-gpu) (0.4.8)\n",
            "Requirement already satisfied: oauthlib>=3.0.0 in /usr/local/lib/python3.6/dist-packages (from requests-oauthlib>=0.7.0->google-auth-oauthlib<0.5,>=0.4.1->tensorboard<2.3.0,>=2.2.0->tensorflow-gpu) (3.1.0)\n",
            "Installing collected packages: tensorflow-gpu\n",
            "Successfully installed tensorflow-gpu-2.2.0\n"
          ],
          "name": "stdout"
        }
      ]
    },
    {
      "cell_type": "markdown",
      "metadata": {
        "id": "oc5bfQm6Jzxw",
        "colab_type": "text"
      },
      "source": [
        "Download [Pima Indians Dataset](https://raw.githubusercontent.com/jbrownlee/Datasets/master/pima-indians-diabetes.data.csv)"
      ]
    },
    {
      "cell_type": "code",
      "metadata": {
        "id": "z6IgZSJTIfMA",
        "colab_type": "code",
        "colab": {}
      },
      "source": [
        "!wget -cq https://raw.githubusercontent.com/jbrownlee/Datasets/master/pima-indians-diabetes.data.csv"
      ],
      "execution_count": 0,
      "outputs": []
    },
    {
      "cell_type": "markdown",
      "metadata": {
        "id": "ZULnYCu7KLrS",
        "colab_type": "text"
      },
      "source": [
        "Check for GPU"
      ]
    },
    {
      "cell_type": "code",
      "metadata": {
        "id": "6Nh2CwLxKJzw",
        "colab_type": "code",
        "colab": {
          "base_uri": "https://localhost:8080/",
          "height": 34
        },
        "outputId": "c9593820-ec8f-4f31-97b3-0c31525cb032"
      },
      "source": [
        "device_name = tf.test.gpu_device_name()\n",
        "if device_name != '/device:GPU:0':\n",
        "  raise SystemError(\"GPU device not found\")\n",
        "print(f'Found GPU at: {device_name}')"
      ],
      "execution_count": 4,
      "outputs": [
        {
          "output_type": "stream",
          "text": [
            "Found GPU at: /device:GPU:0\n"
          ],
          "name": "stdout"
        }
      ]
    },
    {
      "cell_type": "markdown",
      "metadata": {
        "id": "2ExhYUcUe5me",
        "colab_type": "text"
      },
      "source": [
        "Import modules"
      ]
    },
    {
      "cell_type": "code",
      "metadata": {
        "id": "Ma9PxdseKK98",
        "colab_type": "code",
        "colab": {
          "base_uri": "https://localhost:8080/",
          "height": 34
        },
        "outputId": "d0f05065-de59-487b-ecf2-3d500ea14342"
      },
      "source": [
        "import tensorflow as tf\n",
        "from numpy import loadtxt\n",
        "from keras.models import Sequential\n",
        "from keras.layers import Dense\n",
        "from joblib import load\n",
        "from joblib import dump"
      ],
      "execution_count": 3,
      "outputs": [
        {
          "output_type": "stream",
          "text": [
            "Using TensorFlow backend.\n"
          ],
          "name": "stderr"
        }
      ]
    },
    {
      "cell_type": "markdown",
      "metadata": {
        "id": "ETdbAyAypWYa",
        "colab_type": "text"
      },
      "source": [
        "Check versions"
      ]
    },
    {
      "cell_type": "code",
      "metadata": {
        "id": "DwpRLC7wIZBE",
        "colab_type": "code",
        "colab": {
          "base_uri": "https://localhost:8080/",
          "height": 34
        },
        "outputId": "4630b18e-5842-4067-f639-da70c049ec38"
      },
      "source": [
        "print(tf.__version__)"
      ],
      "execution_count": 5,
      "outputs": [
        {
          "output_type": "stream",
          "text": [
            "2.2.0\n"
          ],
          "name": "stdout"
        }
      ]
    },
    {
      "cell_type": "markdown",
      "metadata": {
        "id": "OivBIL4me-V0",
        "colab_type": "text"
      },
      "source": [
        "Load the dataset"
      ]
    },
    {
      "cell_type": "code",
      "metadata": {
        "id": "JndsGRmBeXYG",
        "colab_type": "code",
        "colab": {}
      },
      "source": [
        "dataset = loadtxt('pima-indians-diabetes.data.csv', delimiter=',')\n",
        "x = dataset[:,0:8]\n",
        "y = dataset[:,8]"
      ],
      "execution_count": 0,
      "outputs": []
    },
    {
      "cell_type": "markdown",
      "metadata": {
        "id": "9NpQy-Jbp133",
        "colab_type": "text"
      },
      "source": [
        "Define the model"
      ]
    },
    {
      "cell_type": "code",
      "metadata": {
        "id": "Yp3VKnuVfNM5",
        "colab_type": "code",
        "colab": {}
      },
      "source": [
        "model = Sequential()\n",
        "model.add(Dense(12,input_dim=8, activation='relu'))\n",
        "model.add(Dense(8, activation='relu'))\n",
        "model.add(Dense(1, activation='sigmoid'))"
      ],
      "execution_count": 0,
      "outputs": []
    },
    {
      "cell_type": "markdown",
      "metadata": {
        "id": "n3X5rybop85t",
        "colab_type": "text"
      },
      "source": [
        "Compile the model"
      ]
    },
    {
      "cell_type": "code",
      "metadata": {
        "id": "fFYdhTF6fos1",
        "colab_type": "code",
        "colab": {}
      },
      "source": [
        "model.compile(loss='binary_crossentropy', optimizer='adam', metrics=['accuracy'])"
      ],
      "execution_count": 0,
      "outputs": []
    },
    {
      "cell_type": "markdown",
      "metadata": {
        "id": "7_7djKm_p-o1",
        "colab_type": "text"
      },
      "source": [
        "Train the model for 150 epochs with 10-k batches"
      ]
    },
    {
      "cell_type": "code",
      "metadata": {
        "id": "iQ59HJnxf00M",
        "colab_type": "code",
        "colab": {
          "base_uri": "https://localhost:8080/",
          "height": 1000
        },
        "outputId": "ced0cf60-93c8-4406-ad40-4edb15f399ee"
      },
      "source": [
        "model.fit(x,y, epochs=150, batch_size=10)"
      ],
      "execution_count": 9,
      "outputs": [
        {
          "output_type": "stream",
          "text": [
            "Epoch 1/150\n",
            "768/768 [==============================] - 2s 3ms/step - loss: 8.3296 - accuracy: 0.4935\n",
            "Epoch 2/150\n",
            "768/768 [==============================] - 0s 377us/step - loss: 1.2243 - accuracy: 0.5130\n",
            "Epoch 3/150\n",
            "768/768 [==============================] - 0s 350us/step - loss: 0.9074 - accuracy: 0.5990\n",
            "Epoch 4/150\n",
            "768/768 [==============================] - 0s 360us/step - loss: 0.8392 - accuracy: 0.6237\n",
            "Epoch 5/150\n",
            "768/768 [==============================] - 0s 361us/step - loss: 0.8111 - accuracy: 0.6120\n",
            "Epoch 6/150\n",
            "768/768 [==============================] - 0s 360us/step - loss: 0.7635 - accuracy: 0.6367\n",
            "Epoch 7/150\n",
            "768/768 [==============================] - 0s 344us/step - loss: 0.7618 - accuracy: 0.6615\n",
            "Epoch 8/150\n",
            "768/768 [==============================] - 0s 364us/step - loss: 0.7711 - accuracy: 0.6615\n",
            "Epoch 9/150\n",
            "768/768 [==============================] - 0s 446us/step - loss: 0.6576 - accuracy: 0.6953\n",
            "Epoch 10/150\n",
            "768/768 [==============================] - 0s 449us/step - loss: 0.6967 - accuracy: 0.6914\n",
            "Epoch 11/150\n",
            "768/768 [==============================] - 0s 445us/step - loss: 0.7268 - accuracy: 0.6654\n",
            "Epoch 12/150\n",
            "768/768 [==============================] - 0s 371us/step - loss: 0.6888 - accuracy: 0.6549\n",
            "Epoch 13/150\n",
            "768/768 [==============================] - 0s 360us/step - loss: 0.7013 - accuracy: 0.6693\n",
            "Epoch 14/150\n",
            "768/768 [==============================] - 0s 386us/step - loss: 0.6226 - accuracy: 0.7044\n",
            "Epoch 15/150\n",
            "768/768 [==============================] - 0s 412us/step - loss: 0.6567 - accuracy: 0.6927\n",
            "Epoch 16/150\n",
            "768/768 [==============================] - 0s 367us/step - loss: 0.6983 - accuracy: 0.6758\n",
            "Epoch 17/150\n",
            "768/768 [==============================] - 0s 370us/step - loss: 0.6689 - accuracy: 0.6784\n",
            "Epoch 18/150\n",
            "768/768 [==============================] - 0s 403us/step - loss: 0.6523 - accuracy: 0.6966\n",
            "Epoch 19/150\n",
            "768/768 [==============================] - 0s 358us/step - loss: 0.7149 - accuracy: 0.6849\n",
            "Epoch 20/150\n",
            "768/768 [==============================] - 0s 339us/step - loss: 0.7172 - accuracy: 0.6549\n",
            "Epoch 21/150\n",
            "768/768 [==============================] - 0s 365us/step - loss: 0.6966 - accuracy: 0.6810\n",
            "Epoch 22/150\n",
            "768/768 [==============================] - 0s 365us/step - loss: 0.7121 - accuracy: 0.6719\n",
            "Epoch 23/150\n",
            "768/768 [==============================] - 0s 353us/step - loss: 0.6706 - accuracy: 0.6927\n",
            "Epoch 24/150\n",
            "768/768 [==============================] - 0s 358us/step - loss: 0.7442 - accuracy: 0.6862\n",
            "Epoch 25/150\n",
            "768/768 [==============================] - 0s 355us/step - loss: 0.6856 - accuracy: 0.6823\n",
            "Epoch 26/150\n",
            "768/768 [==============================] - 0s 370us/step - loss: 0.6030 - accuracy: 0.7161\n",
            "Epoch 27/150\n",
            "768/768 [==============================] - 0s 342us/step - loss: 0.6076 - accuracy: 0.6914\n",
            "Epoch 28/150\n",
            "768/768 [==============================] - 0s 374us/step - loss: 0.7872 - accuracy: 0.6654\n",
            "Epoch 29/150\n",
            "768/768 [==============================] - 0s 435us/step - loss: 0.6300 - accuracy: 0.7096\n",
            "Epoch 30/150\n",
            "768/768 [==============================] - 0s 356us/step - loss: 0.7040 - accuracy: 0.6628\n",
            "Epoch 31/150\n",
            "768/768 [==============================] - 0s 364us/step - loss: 0.6110 - accuracy: 0.6940\n",
            "Epoch 32/150\n",
            "768/768 [==============================] - 0s 397us/step - loss: 0.6665 - accuracy: 0.6901\n",
            "Epoch 33/150\n",
            "768/768 [==============================] - 0s 366us/step - loss: 0.6375 - accuracy: 0.7044\n",
            "Epoch 34/150\n",
            "768/768 [==============================] - 0s 351us/step - loss: 0.6119 - accuracy: 0.7083\n",
            "Epoch 35/150\n",
            "768/768 [==============================] - 0s 388us/step - loss: 0.6770 - accuracy: 0.6784\n",
            "Epoch 36/150\n",
            "768/768 [==============================] - 0s 421us/step - loss: 0.6794 - accuracy: 0.7057\n",
            "Epoch 37/150\n",
            "768/768 [==============================] - 0s 351us/step - loss: 0.7869 - accuracy: 0.6641\n",
            "Epoch 38/150\n",
            "768/768 [==============================] - 0s 357us/step - loss: 0.6316 - accuracy: 0.7070\n",
            "Epoch 39/150\n",
            "768/768 [==============================] - 0s 389us/step - loss: 0.5814 - accuracy: 0.7227\n",
            "Epoch 40/150\n",
            "768/768 [==============================] - 0s 359us/step - loss: 0.5835 - accuracy: 0.7188\n",
            "Epoch 41/150\n",
            "768/768 [==============================] - 0s 357us/step - loss: 0.6204 - accuracy: 0.6693\n",
            "Epoch 42/150\n",
            "768/768 [==============================] - 0s 360us/step - loss: 0.6461 - accuracy: 0.6992\n",
            "Epoch 43/150\n",
            "768/768 [==============================] - 0s 393us/step - loss: 0.5763 - accuracy: 0.7161\n",
            "Epoch 44/150\n",
            "768/768 [==============================] - 0s 359us/step - loss: 0.5912 - accuracy: 0.7096\n",
            "Epoch 45/150\n",
            "768/768 [==============================] - 0s 350us/step - loss: 0.5799 - accuracy: 0.7109\n",
            "Epoch 46/150\n",
            "768/768 [==============================] - 0s 387us/step - loss: 0.6676 - accuracy: 0.7044\n",
            "Epoch 47/150\n",
            "768/768 [==============================] - 0s 359us/step - loss: 0.6212 - accuracy: 0.7096\n",
            "Epoch 48/150\n",
            "768/768 [==============================] - 0s 352us/step - loss: 0.6066 - accuracy: 0.7109\n",
            "Epoch 49/150\n",
            "768/768 [==============================] - 0s 353us/step - loss: 0.5615 - accuracy: 0.7188\n",
            "Epoch 50/150\n",
            "768/768 [==============================] - 0s 399us/step - loss: 0.5581 - accuracy: 0.7318\n",
            "Epoch 51/150\n",
            "768/768 [==============================] - 0s 361us/step - loss: 0.5946 - accuracy: 0.7005\n",
            "Epoch 52/150\n",
            "768/768 [==============================] - 0s 348us/step - loss: 0.5575 - accuracy: 0.7135\n",
            "Epoch 53/150\n",
            "768/768 [==============================] - 0s 365us/step - loss: 0.5719 - accuracy: 0.7135\n",
            "Epoch 54/150\n",
            "768/768 [==============================] - 0s 358us/step - loss: 0.6044 - accuracy: 0.7083\n",
            "Epoch 55/150\n",
            "768/768 [==============================] - 0s 345us/step - loss: 0.6523 - accuracy: 0.6979\n",
            "Epoch 56/150\n",
            "768/768 [==============================] - 0s 376us/step - loss: 0.5468 - accuracy: 0.7292\n",
            "Epoch 57/150\n",
            "768/768 [==============================] - 0s 397us/step - loss: 0.5842 - accuracy: 0.7240\n",
            "Epoch 58/150\n",
            "768/768 [==============================] - 0s 365us/step - loss: 0.5813 - accuracy: 0.7174\n",
            "Epoch 59/150\n",
            "768/768 [==============================] - 0s 429us/step - loss: 0.6192 - accuracy: 0.7031\n",
            "Epoch 60/150\n",
            "768/768 [==============================] - 0s 447us/step - loss: 0.6464 - accuracy: 0.7057\n",
            "Epoch 61/150\n",
            "768/768 [==============================] - 0s 351us/step - loss: 0.5578 - accuracy: 0.7344\n",
            "Epoch 62/150\n",
            "768/768 [==============================] - 0s 358us/step - loss: 0.5749 - accuracy: 0.7161\n",
            "Epoch 63/150\n",
            "768/768 [==============================] - 0s 375us/step - loss: 0.5621 - accuracy: 0.7148\n",
            "Epoch 64/150\n",
            "768/768 [==============================] - 0s 447us/step - loss: 0.5472 - accuracy: 0.7331\n",
            "Epoch 65/150\n",
            "768/768 [==============================] - 0s 474us/step - loss: 0.5559 - accuracy: 0.7292\n",
            "Epoch 66/150\n",
            "768/768 [==============================] - 0s 469us/step - loss: 0.5947 - accuracy: 0.7174\n",
            "Epoch 67/150\n",
            "768/768 [==============================] - 0s 366us/step - loss: 0.5796 - accuracy: 0.7135\n",
            "Epoch 68/150\n",
            "768/768 [==============================] - 0s 354us/step - loss: 0.5392 - accuracy: 0.7409\n",
            "Epoch 69/150\n",
            "768/768 [==============================] - 0s 351us/step - loss: 0.5430 - accuracy: 0.7240\n",
            "Epoch 70/150\n",
            "768/768 [==============================] - 0s 410us/step - loss: 0.6856 - accuracy: 0.6771\n",
            "Epoch 71/150\n",
            "768/768 [==============================] - 0s 426us/step - loss: 0.6100 - accuracy: 0.6966\n",
            "Epoch 72/150\n",
            "768/768 [==============================] - 0s 475us/step - loss: 0.5896 - accuracy: 0.7070\n",
            "Epoch 73/150\n",
            "768/768 [==============================] - 0s 472us/step - loss: 0.5651 - accuracy: 0.7148\n",
            "Epoch 74/150\n",
            "768/768 [==============================] - 0s 447us/step - loss: 0.6295 - accuracy: 0.7201\n",
            "Epoch 75/150\n",
            "768/768 [==============================] - 0s 401us/step - loss: 0.6307 - accuracy: 0.7057\n",
            "Epoch 76/150\n",
            "768/768 [==============================] - 0s 383us/step - loss: 0.5515 - accuracy: 0.7422\n",
            "Epoch 77/150\n",
            "768/768 [==============================] - 0s 346us/step - loss: 0.5619 - accuracy: 0.7383\n",
            "Epoch 78/150\n",
            "768/768 [==============================] - 0s 354us/step - loss: 0.5487 - accuracy: 0.7227\n",
            "Epoch 79/150\n",
            "768/768 [==============================] - 0s 402us/step - loss: 0.5807 - accuracy: 0.7305\n",
            "Epoch 80/150\n",
            "768/768 [==============================] - 0s 365us/step - loss: 0.5814 - accuracy: 0.7279\n",
            "Epoch 81/150\n",
            "768/768 [==============================] - 0s 348us/step - loss: 0.5512 - accuracy: 0.7383\n",
            "Epoch 82/150\n",
            "768/768 [==============================] - 0s 350us/step - loss: 0.5481 - accuracy: 0.7214\n",
            "Epoch 83/150\n",
            "768/768 [==============================] - 0s 402us/step - loss: 0.5396 - accuracy: 0.7344\n",
            "Epoch 84/150\n",
            "768/768 [==============================] - 0s 441us/step - loss: 0.7350 - accuracy: 0.6758\n",
            "Epoch 85/150\n",
            "768/768 [==============================] - 0s 447us/step - loss: 0.5673 - accuracy: 0.7201\n",
            "Epoch 86/150\n",
            "768/768 [==============================] - 0s 391us/step - loss: 0.5493 - accuracy: 0.7214\n",
            "Epoch 87/150\n",
            "768/768 [==============================] - 0s 355us/step - loss: 0.6417 - accuracy: 0.6875\n",
            "Epoch 88/150\n",
            "768/768 [==============================] - 0s 343us/step - loss: 0.6116 - accuracy: 0.7279\n",
            "Epoch 89/150\n",
            "768/768 [==============================] - 0s 399us/step - loss: 0.5765 - accuracy: 0.7188\n",
            "Epoch 90/150\n",
            "768/768 [==============================] - 0s 469us/step - loss: 0.6111 - accuracy: 0.7279\n",
            "Epoch 91/150\n",
            "768/768 [==============================] - 0s 441us/step - loss: 0.5906 - accuracy: 0.7305\n",
            "Epoch 92/150\n",
            "768/768 [==============================] - 0s 435us/step - loss: 0.7309 - accuracy: 0.6641\n",
            "Epoch 93/150\n",
            "768/768 [==============================] - 0s 460us/step - loss: 0.5795 - accuracy: 0.7279\n",
            "Epoch 94/150\n",
            "768/768 [==============================] - 0s 439us/step - loss: 0.5483 - accuracy: 0.7344\n",
            "Epoch 95/150\n",
            "768/768 [==============================] - 0s 395us/step - loss: 0.5788 - accuracy: 0.7266\n",
            "Epoch 96/150\n",
            "768/768 [==============================] - 0s 372us/step - loss: 0.5279 - accuracy: 0.7370\n",
            "Epoch 97/150\n",
            "768/768 [==============================] - 0s 342us/step - loss: 0.5401 - accuracy: 0.7318\n",
            "Epoch 98/150\n",
            "768/768 [==============================] - 0s 356us/step - loss: 0.5336 - accuracy: 0.7513\n",
            "Epoch 99/150\n",
            "768/768 [==============================] - 0s 411us/step - loss: 0.5641 - accuracy: 0.7083\n",
            "Epoch 100/150\n",
            "768/768 [==============================] - 0s 361us/step - loss: 0.5300 - accuracy: 0.7214\n",
            "Epoch 101/150\n",
            "768/768 [==============================] - 0s 346us/step - loss: 0.5341 - accuracy: 0.7357\n",
            "Epoch 102/150\n",
            "768/768 [==============================] - 0s 406us/step - loss: 0.5340 - accuracy: 0.7500\n",
            "Epoch 103/150\n",
            "768/768 [==============================] - 0s 464us/step - loss: 0.5272 - accuracy: 0.7461\n",
            "Epoch 104/150\n",
            "768/768 [==============================] - 0s 446us/step - loss: 0.5135 - accuracy: 0.7513\n",
            "Epoch 105/150\n",
            "768/768 [==============================] - 0s 441us/step - loss: 0.5364 - accuracy: 0.7331\n",
            "Epoch 106/150\n",
            "768/768 [==============================] - 0s 459us/step - loss: 0.5914 - accuracy: 0.7188\n",
            "Epoch 107/150\n",
            "768/768 [==============================] - 0s 431us/step - loss: 0.5252 - accuracy: 0.7409\n",
            "Epoch 108/150\n",
            "768/768 [==============================] - 0s 403us/step - loss: 0.5325 - accuracy: 0.7435\n",
            "Epoch 109/150\n",
            "768/768 [==============================] - 0s 373us/step - loss: 0.6458 - accuracy: 0.7188\n",
            "Epoch 110/150\n",
            "768/768 [==============================] - 0s 338us/step - loss: 0.5948 - accuracy: 0.7161\n",
            "Epoch 111/150\n",
            "768/768 [==============================] - 0s 401us/step - loss: 0.5292 - accuracy: 0.7383\n",
            "Epoch 112/150\n",
            "768/768 [==============================] - 0s 375us/step - loss: 0.5074 - accuracy: 0.7565\n",
            "Epoch 113/150\n",
            "768/768 [==============================] - 0s 363us/step - loss: 0.5458 - accuracy: 0.7357\n",
            "Epoch 114/150\n",
            "768/768 [==============================] - 0s 377us/step - loss: 0.5178 - accuracy: 0.7604\n",
            "Epoch 115/150\n",
            "768/768 [==============================] - 0s 368us/step - loss: 0.5921 - accuracy: 0.7279\n",
            "Epoch 116/150\n",
            "768/768 [==============================] - 0s 392us/step - loss: 0.5306 - accuracy: 0.7539\n",
            "Epoch 117/150\n",
            "768/768 [==============================] - 0s 354us/step - loss: 0.5737 - accuracy: 0.7266\n",
            "Epoch 118/150\n",
            "768/768 [==============================] - 0s 357us/step - loss: 0.5870 - accuracy: 0.7083\n",
            "Epoch 119/150\n",
            "768/768 [==============================] - 0s 372us/step - loss: 0.5893 - accuracy: 0.7214\n",
            "Epoch 120/150\n",
            "768/768 [==============================] - 0s 363us/step - loss: 0.5564 - accuracy: 0.7305\n",
            "Epoch 121/150\n",
            "768/768 [==============================] - 0s 362us/step - loss: 0.5489 - accuracy: 0.7227\n",
            "Epoch 122/150\n",
            "768/768 [==============================] - 0s 382us/step - loss: 0.5244 - accuracy: 0.7357\n",
            "Epoch 123/150\n",
            "768/768 [==============================] - 0s 471us/step - loss: 0.5144 - accuracy: 0.7526\n",
            "Epoch 124/150\n",
            "768/768 [==============================] - 0s 454us/step - loss: 0.5035 - accuracy: 0.7565\n",
            "Epoch 125/150\n",
            "768/768 [==============================] - 0s 364us/step - loss: 0.5130 - accuracy: 0.7318\n",
            "Epoch 126/150\n",
            "768/768 [==============================] - 0s 385us/step - loss: 0.5182 - accuracy: 0.7682\n",
            "Epoch 127/150\n",
            "768/768 [==============================] - 0s 361us/step - loss: 0.5413 - accuracy: 0.7357\n",
            "Epoch 128/150\n",
            "768/768 [==============================] - 0s 360us/step - loss: 0.5759 - accuracy: 0.7357\n",
            "Epoch 129/150\n",
            "768/768 [==============================] - 0s 348us/step - loss: 0.5310 - accuracy: 0.7279\n",
            "Epoch 130/150\n",
            "768/768 [==============================] - 0s 381us/step - loss: 0.5337 - accuracy: 0.7435\n",
            "Epoch 131/150\n",
            "768/768 [==============================] - 0s 366us/step - loss: 0.5511 - accuracy: 0.7474\n",
            "Epoch 132/150\n",
            "768/768 [==============================] - 0s 375us/step - loss: 0.5116 - accuracy: 0.7669\n",
            "Epoch 133/150\n",
            "768/768 [==============================] - 0s 381us/step - loss: 0.5289 - accuracy: 0.7331\n",
            "Epoch 134/150\n",
            "768/768 [==============================] - 0s 354us/step - loss: 0.5257 - accuracy: 0.7357\n",
            "Epoch 135/150\n",
            "768/768 [==============================] - 0s 420us/step - loss: 0.5619 - accuracy: 0.7318\n",
            "Epoch 136/150\n",
            "768/768 [==============================] - 0s 339us/step - loss: 0.5557 - accuracy: 0.7396\n",
            "Epoch 137/150\n",
            "768/768 [==============================] - 0s 366us/step - loss: 0.5164 - accuracy: 0.7344\n",
            "Epoch 138/150\n",
            "768/768 [==============================] - 0s 374us/step - loss: 0.5528 - accuracy: 0.7344\n",
            "Epoch 139/150\n",
            "768/768 [==============================] - 0s 359us/step - loss: 0.5226 - accuracy: 0.7539\n",
            "Epoch 140/150\n",
            "768/768 [==============================] - 0s 375us/step - loss: 0.5487 - accuracy: 0.7448\n",
            "Epoch 141/150\n",
            "768/768 [==============================] - 0s 349us/step - loss: 0.5631 - accuracy: 0.7318\n",
            "Epoch 142/150\n",
            "768/768 [==============================] - 0s 351us/step - loss: 0.5018 - accuracy: 0.7526\n",
            "Epoch 143/150\n",
            "768/768 [==============================] - 0s 361us/step - loss: 0.5449 - accuracy: 0.7604\n",
            "Epoch 144/150\n",
            "768/768 [==============================] - 0s 388us/step - loss: 0.5533 - accuracy: 0.7409\n",
            "Epoch 145/150\n",
            "768/768 [==============================] - 0s 353us/step - loss: 0.5054 - accuracy: 0.7435\n",
            "Epoch 146/150\n",
            "768/768 [==============================] - 0s 358us/step - loss: 0.5066 - accuracy: 0.7669\n",
            "Epoch 147/150\n",
            "768/768 [==============================] - 0s 355us/step - loss: 0.4927 - accuracy: 0.7565\n",
            "Epoch 148/150\n",
            "768/768 [==============================] - 0s 375us/step - loss: 0.5149 - accuracy: 0.7487\n",
            "Epoch 149/150\n",
            "768/768 [==============================] - 0s 341us/step - loss: 0.5616 - accuracy: 0.7383\n",
            "Epoch 150/150\n",
            "768/768 [==============================] - 0s 356us/step - loss: 0.5815 - accuracy: 0.7253\n"
          ],
          "name": "stdout"
        },
        {
          "output_type": "execute_result",
          "data": {
            "text/plain": [
              "<keras.callbacks.callbacks.History at 0x7f76bc35e5f8>"
            ]
          },
          "metadata": {
            "tags": []
          },
          "execution_count": 9
        }
      ]
    },
    {
      "cell_type": "markdown",
      "metadata": {
        "id": "T0C2EETVqGFS",
        "colab_type": "text"
      },
      "source": [
        "Evaluate model accuracy"
      ]
    },
    {
      "cell_type": "code",
      "metadata": {
        "id": "1JHxALxJf9Ge",
        "colab_type": "code",
        "colab": {
          "base_uri": "https://localhost:8080/",
          "height": 51
        },
        "outputId": "26ab2fae-40b6-469d-9676-5f36290c5f4d"
      },
      "source": [
        "_, accuracy = model.evaluate(x,y)\n",
        "print(f'Accuracy: {accuracy*100}')"
      ],
      "execution_count": 10,
      "outputs": [
        {
          "output_type": "stream",
          "text": [
            "768/768 [==============================] - 0s 80us/step\n",
            "Accuracy: 76.953125\n"
          ],
          "name": "stdout"
        }
      ]
    },
    {
      "cell_type": "markdown",
      "metadata": {
        "id": "WlfrgyrrqJlY",
        "colab_type": "text"
      },
      "source": [
        "Make predictions using model"
      ]
    },
    {
      "cell_type": "code",
      "metadata": {
        "id": "Xr6um6YpgLlo",
        "colab_type": "code",
        "colab": {}
      },
      "source": [
        "y_pred = model.predict(x)\n",
        "y_pred = [1 if i>=0.5 else 0 for i in y_pred]"
      ],
      "execution_count": 0,
      "outputs": []
    },
    {
      "cell_type": "markdown",
      "metadata": {
        "id": "baldHGJ7qMz5",
        "colab_type": "text"
      },
      "source": [
        "Calculate statistics"
      ]
    },
    {
      "cell_type": "code",
      "metadata": {
        "id": "4l6BWvUKjZrn",
        "colab_type": "code",
        "colab": {}
      },
      "source": [
        "total = 0\n",
        "correct = 0\n",
        "wrong = 0\n",
        "for i in range(len(y_pred)):\n",
        "  total = total + 1\n",
        "  if y_pred[i] == y[i]:\n",
        "    correct = correct + 1\n",
        "  else:\n",
        "    wrong = wrong + 1"
      ],
      "execution_count": 0,
      "outputs": []
    },
    {
      "cell_type": "code",
      "metadata": {
        "id": "U-WWfs32kW2a",
        "colab_type": "code",
        "colab": {
          "base_uri": "https://localhost:8080/",
          "height": 68
        },
        "outputId": "dbdaef0c-0c20-4663-b2d2-efa0e1f9afc4"
      },
      "source": [
        "print(f\" Total: {total} \\n Correct: {correct} \\n Wrong: {wrong}\")"
      ],
      "execution_count": 13,
      "outputs": [
        {
          "output_type": "stream",
          "text": [
            " Total: 768 \n",
            " Correct: 591 \n",
            " Wrong: 177\n"
          ],
          "name": "stdout"
        }
      ]
    },
    {
      "cell_type": "markdown",
      "metadata": {
        "id": "HyB4QrSqqTGu",
        "colab_type": "text"
      },
      "source": [
        "Pipeline model"
      ]
    },
    {
      "cell_type": "code",
      "metadata": {
        "id": "2_FgYDFFmswH",
        "colab_type": "code",
        "colab": {
          "base_uri": "https://localhost:8080/",
          "height": 34
        },
        "outputId": "04ad1ce9-3624-4b05-bc95-eab38a9c4f0d"
      },
      "source": [
        "dump(model, 'model.sav')"
      ],
      "execution_count": 14,
      "outputs": [
        {
          "output_type": "execute_result",
          "data": {
            "text/plain": [
              "['model.sav']"
            ]
          },
          "metadata": {
            "tags": []
          },
          "execution_count": 14
        }
      ]
    },
    {
      "cell_type": "code",
      "metadata": {
        "id": "VXE7W71snIfT",
        "colab_type": "code",
        "colab": {}
      },
      "source": [
        "test_model = load('model.sav')"
      ],
      "execution_count": 0,
      "outputs": []
    },
    {
      "cell_type": "code",
      "metadata": {
        "id": "TUqWnHtnndpe",
        "colab_type": "code",
        "colab": {
          "base_uri": "https://localhost:8080/",
          "height": 51
        },
        "outputId": "969dde91-e3f2-44a9-8991-ebd58cc44e43"
      },
      "source": [
        "_, accuracy = test_model.evaluate(x,y)\n",
        "print(f'Accuracy: {accuracy*100}')"
      ],
      "execution_count": 16,
      "outputs": [
        {
          "output_type": "stream",
          "text": [
            "768/768 [==============================] - 0s 69us/step\n",
            "Accuracy: 76.953125\n"
          ],
          "name": "stdout"
        }
      ]
    },
    {
      "cell_type": "code",
      "metadata": {
        "id": "YWXuDnSqnoED",
        "colab_type": "code",
        "colab": {}
      },
      "source": [
        "test_y_pred = test_model.predict(x)\n",
        "test_y_pred = [1 if i>=0.5 else 0 for i in test_y_pred]"
      ],
      "execution_count": 0,
      "outputs": []
    },
    {
      "cell_type": "code",
      "metadata": {
        "id": "Rr44r8-SnwgN",
        "colab_type": "code",
        "colab": {}
      },
      "source": [
        "test_total = 0\n",
        "test_correct = 0\n",
        "test_wrong = 0\n",
        "for i in range(len(test_y_pred)):\n",
        "  test_total = test_total + 1\n",
        "  if test_y_pred[i] == y[i]:\n",
        "    test_correct = test_correct + 1\n",
        "  else:\n",
        "    test_wrong = test_wrong + 1"
      ],
      "execution_count": 0,
      "outputs": []
    },
    {
      "cell_type": "code",
      "metadata": {
        "id": "tmbP4Xksnz9K",
        "colab_type": "code",
        "colab": {
          "base_uri": "https://localhost:8080/",
          "height": 85
        },
        "outputId": "b4a3976a-9e8a-4859-9447-259c39c05192"
      },
      "source": [
        "print(f\"Loaded Model: \\n Total: {test_total} \\n Correct: {test_correct} \\n Wrong: {test_wrong}\")"
      ],
      "execution_count": 22,
      "outputs": [
        {
          "output_type": "stream",
          "text": [
            "Loaded Model: \n",
            " Total: 768 \n",
            " Correct: 591 \n",
            " Wrong: 177\n"
          ],
          "name": "stdout"
        }
      ]
    }
  ]
}